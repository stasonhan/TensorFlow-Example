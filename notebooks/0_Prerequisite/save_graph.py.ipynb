{
 "metadata": {
  "name": "",
  "signature": "sha256:5c5bbf2f3cb2566f56a7e05ec312cd21912c846468a3580c8e76654920d29427"
 },
 "nbformat": 3,
 "nbformat_minor": 0,
 "worksheets": [
  {
   "cells": [
    {
     "cell_type": "code",
     "collapsed": false,
     "input": [
      "#just test convert_varibles_to_constants function\n",
      "import tensorflow as tf\n",
      "from tensorflow.python.framework import graph_util\n",
      "v1 = tf.Variable(tf.constant(1.0,shape=[1]),name=\"v1\")\n",
      "v2 = tf.Variable(tf.constant(2.0,shape=[1]),name=\"v2\")\n",
      "result = v1 + v2\n",
      "\n",
      "init_op = tf.global_variables_initializer()\n",
      "with tf.Session() as sess:\n",
      "    sess.run(init_op)\n",
      "    graph_def = tf.get_default_graph().as_graph_def()\n",
      "    output_graph_def = graph_util.convert_variables_to_constants(sess,graph_def,['add'])\n",
      "    with tf.gfile.GFile(\"/home/dev/save/graph.pb\",\"wb\") as f:\n",
      "        f.write(output_graph_def.SerializeToString())"
     ],
     "language": "python",
     "metadata": {},
     "outputs": [
      {
       "output_type": "stream",
       "stream": "stdout",
       "text": [
        "INFO:tensorflow:Froze 2 variables.\n"
       ]
      },
      {
       "output_type": "stream",
       "stream": "stderr",
       "text": [
        "INFO:tensorflow:Froze 2 variables.\n"
       ]
      },
      {
       "output_type": "stream",
       "stream": "stdout",
       "text": [
        "Converted 2 variables to const ops.\n"
       ]
      }
     ],
     "prompt_number": 2
    },
    {
     "cell_type": "code",
     "collapsed": false,
     "input": [],
     "language": "python",
     "metadata": {},
     "outputs": []
    }
   ],
   "metadata": {}
  }
 ]
}