{
 "metadata": {
  "name": "",
  "signature": "sha256:755fbf20aa687bba97feb6a6f8873a370e06d3ce4c2b21058df1d1f81bb75ce5"
 },
 "nbformat": 3,
 "nbformat_minor": 0,
 "worksheets": [
  {
   "cells": [
    {
     "cell_type": "code",
     "collapsed": false,
     "input": [
      "import tensorflow as tf\n",
      "\n",
      "\n",
      "filename = \"/tmp/out_put.tfrecords\"\n",
      "reader = tf.TFRecordReader()\n",
      "filename_queue = tf.train.string_input_producer(\n",
      "[filename])\n",
      "\n",
      "_,serialized_example = reader.read(filename_queue)\n",
      "features = tf.parse_single_example(\n",
      "            serialized_example,\n",
      "            features = {\n",
      "                  'image_raw':tf.FixedLenFeature([],tf.string),\n",
      "                  'pixels':tf.FixedLenFeature([],tf.int64),\n",
      "                  'label':tf.FixedLenFeature([],tf.int64),    \n",
      "})\n",
      "images = tf.decode_raw(features['image_raw'],tf.uint8)\n",
      "labels = tf.cast(features['label'],tf.int32)\n",
      "pixels = tf.cast(features['pixels'],tf.int32)\n",
      "\n",
      "sess = tf.Session()\n",
      "coord = tf.train.Coordinator()\n",
      "threads = tf.train.start_queue_runners(sess=sess,coord=coord)\n",
      "\n",
      "for i in range(10):\n",
      "    image,label,pixel = sess.run([images,labels,pixels])\n",
      "    print label,pixel\n",
      "    "
     ],
     "language": "python",
     "metadata": {},
     "outputs": [
      {
       "output_type": "stream",
       "stream": "stdout",
       "text": [
        "7 784\n",
        "3 784\n",
        "4 784\n",
        "6 784\n",
        "1 784\n",
        "8 784\n",
        "1 784\n",
        "0 784\n",
        "9 784\n",
        "8 784\n"
       ]
      }
     ],
     "prompt_number": 6
    },
    {
     "cell_type": "code",
     "collapsed": false,
     "input": [],
     "language": "python",
     "metadata": {},
     "outputs": []
    }
   ],
   "metadata": {}
  }
 ]
}