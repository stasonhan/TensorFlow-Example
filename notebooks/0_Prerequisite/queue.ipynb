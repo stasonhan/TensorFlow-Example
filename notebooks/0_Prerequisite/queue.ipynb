{
 "metadata": {
  "name": "",
  "signature": "sha256:e4ee84b563b6bacb3c451fad8774aef7b2a2e569261a46aba8a22426ac5aa5dc"
 },
 "nbformat": 3,
 "nbformat_minor": 0,
 "worksheets": [
  {
   "cells": [
    {
     "cell_type": "code",
     "collapsed": false,
     "input": [
      "import tensorflow as tf\n",
      "q = tf.FIFOQueue(2,\"int32\")\n",
      "init = q.enqueue_many(([0,10],))\n",
      "\n",
      "x = q.dequeue()\n",
      "y = x + 1\n",
      "q_inc = q.enqueue([y])\n",
      "\n",
      "with tf.Session() as sess:\n",
      "    init.run()\n",
      "    for _ in range(5):\n",
      "        v, _ = sess.run([x,q_inc])\n",
      "        print v"
     ],
     "language": "python",
     "metadata": {},
     "outputs": [
      {
       "output_type": "stream",
       "stream": "stdout",
       "text": [
        "0\n",
        "10\n",
        "1\n",
        "11\n",
        "2\n"
       ]
      }
     ],
     "prompt_number": 1
    },
    {
     "cell_type": "code",
     "collapsed": false,
     "input": [],
     "language": "python",
     "metadata": {},
     "outputs": []
    }
   ],
   "metadata": {}
  }
 ]
}