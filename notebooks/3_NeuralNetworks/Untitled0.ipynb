{
 "metadata": {
  "name": "",
  "signature": "sha256:27864f901d3914da2783fcf7c4b276027f6ab10fed86fdc19a7a0892ae8ee0a7"
 },
 "nbformat": 3,
 "nbformat_minor": 0,
 "worksheets": [
  {
   "cells": [
    {
     "cell_type": "code",
     "collapsed": false,
     "input": [
      "import tensorflow as tf\n",
      "import numpy as np\n",
      "a = np.random.rand(6,6).astype('float32')\n",
      "b = np.random.rand(1,6).astype('float32')\n",
      "print \"a:\\n\",a\n",
      "print \"b:\\n\",b\n",
      "print \"\\n\"\n",
      "x = tf.constant([1,2,3,4,5,6],shape=[1,6],dtype=tf.float32)\n",
      "res = tf.matmul(x,a)+b\n",
      "with tf.Session() as sess:\n",
      "    print \"res:\"\n",
      "    print sess.run(res)\n",
      "    print \"tf.argmax:\"\n",
      "    print sess.run(tf.argmax(res,1))\n",
      "\n"
     ],
     "language": "python",
     "metadata": {},
     "outputs": [
      {
       "output_type": "stream",
       "stream": "stdout",
       "text": [
        "a:\n",
        "[[ 0.79004693  0.01195247  0.00185227  0.06450702  0.42081904  0.91363633]\n",
        " [ 0.73262352  0.23724079  0.56491613  0.89224893  0.11724965  0.85350657]\n",
        " [ 0.22980452  0.3835063   0.67052114  0.33727109  0.79298109  0.41014937]\n",
        " [ 0.97650486  0.80890387  0.89411592  0.55004346  0.69072396  0.10020594]\n",
        " [ 0.95566106  0.28159449  0.59640664  0.37076417  0.1510371   0.27124336]\n",
        " [ 0.18392305  0.16585112  0.45220843  0.24584305  0.03865564  0.4113687 ]]\n",
        "b:\n",
        "[[ 0.15413241  0.08236471  0.24428944  0.40292042  0.79317206  0.44069159]]\n",
        "\n",
        "\n",
        "res:\n",
        "[[ 12.88670349   7.35801172  12.65928459   8.79279232   7.57744884\n",
        "    8.51704216]]\n",
        "tf.argmax:\n",
        "[0]\n"
       ]
      }
     ],
     "prompt_number": 4
    },
    {
     "cell_type": "code",
     "collapsed": false,
     "input": [],
     "language": "python",
     "metadata": {},
     "outputs": []
    }
   ],
   "metadata": {}
  }
 ]
}