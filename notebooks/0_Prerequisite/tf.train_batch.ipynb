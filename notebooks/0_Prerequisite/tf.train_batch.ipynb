{
 "metadata": {
  "name": "",
  "signature": "sha256:d2c3b734877a5f637b35cf280344308dc41451fd5402528c24705c4cf31e30ae"
 },
 "nbformat": 3,
 "nbformat_minor": 0,
 "worksheets": [
  {
   "cells": [
    {
     "cell_type": "code",
     "collapsed": false,
     "input": [
      "import tensorflow as tf\n",
      "\n",
      "files = tf.train.match_filenames_once('/tmp/data.tfrecords-*')\n",
      "filename_queue = tf.train.string_input_producer(files,shuffle=False)\n",
      "reader = tf.TFRecordReader()\n",
      "_,serialized_example=reader.read(filename_queue)\n",
      "features = tf.parse_single_example(\n",
      "                   serialized_example,\n",
      "                   features={\n",
      "                         'i':tf.FixedLenFeature([],tf.int64),\n",
      "                         'j':tf.FixedLenFeature([],tf.int64),\n",
      "})\n",
      "\n",
      "example,label = features['i'],features['j']\n",
      "batch_size = 3\n",
      "capacity = 1000 + 3 * batch_size\n",
      "example_batch,label_batch = tf.train.batch(\n",
      "            [example,label],batch_size=batch_size,capacity=capacity)\n",
      "with tf.Session() as sess:\n",
      "    tf.local_variables_initializer().run()\n",
      "    coord = tf.train.Coordinator()\n",
      "    threads = tf.train.start_queue_runners(sess=sess,coord=coord)\n",
      "    for i in range(2):\n",
      "        cur_example_batch,cur_label_batch=sess.run(\n",
      "                    [example_batch,label_batch])\n",
      "        print cur_example_batch,cur_label_batch\n",
      "    coord.request_stop()\n",
      "    coord.join()"
     ],
     "language": "python",
     "metadata": {},
     "outputs": [
      {
       "output_type": "stream",
       "stream": "stdout",
       "text": [
        "[0 1 0] [1 1 1]\n",
        "[1 0 1] [1 1 1]\n"
       ]
      }
     ],
     "prompt_number": 4
    }
   ],
   "metadata": {}
  }
 ]
}