{
 "metadata": {
  "name": "",
  "signature": "sha256:c11ecbe5ff7b4999058530dbb89ba55463fb022bf82581f9a76bc8ef85793ebf"
 },
 "nbformat": 3,
 "nbformat_minor": 0,
 "worksheets": [
  {
   "cells": [
    {
     "cell_type": "code",
     "collapsed": false,
     "input": [
      "import tensorflow as tf\n",
      "#our\u00a0NN's\u00a0output\u00a0\u00a0\u00a0\u00a0\n",
      "logits=tf.constant([[1.0,2.0,3.0],[1.0,3.0,2.0],[1.0,2.0,3.0]])\n",
      "#step1:do\u00a0softmax\u00a0\u00a0\u00a0\u00a0\n",
      "y=tf.nn.softmax(logits)\n",
      "#true\u00a0label\u00a0\u00a0\u00a0\n",
      "#\u6ce8\u610f\u8fd9\u91cc\u6807\u7b7e\u5fc5\u987b\u662f\u6d6e\u70b9\u6570,\u4e0d\u7136\u5728\u540e\u9762\u8ba1\u7b97tf.multiply\u65f6\u5c31\u4f1a\u56e0\u4e3a\u7c7b\u578b\u4e0d\u5339\u914dtf_log\u7684float32\u6570\u636e\u7c7b\u578b\u800c\u51fa\u9519\u00a0\u00a0\n",
      "y_=tf.constant([[0,0,1],[0,1.0,0],[0,0,1.0]])#\u8fd9\u4e2a\u662f\u7a00\u758f\u7684\u6807\u7b7e\u00a0\u00a0\n",
      "#step2:do\u00a0log\u00a0\n",
      "tf_log=tf.log(y)\n",
      "#step3:do\u00a0mult\u00a0\u00a0\u00a0\u00a0\n",
      "pixel_wise_mult=tf.multiply(y_,tf_log)\n",
      "#step4:do\u00a0cross_entropy\u00a0\u00a0\u00a0\u00a0\n",
      "cross_entropy = -tf.reduce_sum(pixel_wise_mult)\n",
      "#do\u00a0cross_entropy\u00a0just\u00a0two\u00a0step\u00a0\u00a0\u00a0\u00a0\n",
      "#\u5c06\u6807\u7b7e\u7a20\u5bc6\u5316\u00a0\u00a0\n",
      "dense_y=tf.argmax(y_,1)\n",
      "cross_entropy2_step1=tf.nn.sparse_softmax_cross_entropy_with_logits(labels=dense_y,logits=logits)\n",
      "cross_entropy2_step2=tf.reduce_sum(cross_entropy2_step1)#dont\u00a0forget\u00a0tf.reduce_sum()!!\n",
      "with tf.Session() as sess:\n",
      "    y_value,tf_log_value,pixel_wise_mult_value,cross_entropy_value=sess.run([y,tf_log,pixel_wise_mult,cross_entropy])\n",
      "    sparse_cross_entropy2_step1_value,sparse_cross_entropy2_step2_value=sess.run([cross_entropy2_step1,cross_entropy2_step2])\n",
      "    y_sum = sess.run(tf.reduce_sum(y_value,0))\n",
      "    print (\"step0: softmax result=\\n%s\" %(y_sum))\n",
      "    print(\"step1:softmax\u00a0result=\\n%s\\n\"%(y_value))\n",
      "    print(\"step2:tf_log_result\u00a0result=\\n%s\\n\"%(tf_log_value))\n",
      "    print(\"step3:pixel_mult=\\n%s\\n\"%(pixel_wise_mult_value))\n",
      "    print(\"step4:cross_entropy\u00a0result=\\n%s\\n\"%(cross_entropy_value))\n",
      "    print(\"Function(softmax_cross_entropy_with_logits)\u00a0result=\\n%s\\n\"%(sparse_cross_entropy2_step1_value))\n",
      "    print(\"Function(tf.reduce_sum)\u00a0result=\\n%s\\n\"%(sparse_cross_entropy2_step2_value))"
     ],
     "language": "python",
     "metadata": {},
     "outputs": [
      {
       "output_type": "stream",
       "stream": "stdout",
       "text": [
        "step0: softmax result=\n",
        "[ 0.27009171  1.15469778  1.57521033]\n",
        "step1:softmax\u00a0result=\n",
        "[[ 0.09003057  0.24472848  0.66524094]\n",
        " [ 0.09003057  0.66524088  0.24472845]\n",
        " [ 0.09003057  0.24472848  0.66524094]]\n",
        "\n",
        "step2:tf_log_result\u00a0result=\n",
        "[[-2.40760589 -1.40760589 -0.40760601]\n",
        " [-2.40760612 -0.40760607 -1.40760612]\n",
        " [-2.40760589 -1.40760589 -0.40760598]]\n",
        "\n",
        "step3:pixel_mult=\n",
        "[[-0.         -0.         -0.40760601]\n",
        " [-0.         -0.40760607 -0.        ]\n",
        " [-0.         -0.         -0.40760598]]\n",
        "\n",
        "step4:cross_entropy\u00a0result=\n",
        "1.22282\n",
        "\n",
        "Function(softmax_cross_entropy_with_logits)\u00a0result=\n",
        "[ 0.40760595  0.40760604  0.40760595]\n",
        "\n",
        "Function(tf.reduce_sum)\u00a0result=\n",
        "1.22282\n",
        "\n"
       ]
      }
     ],
     "prompt_number": 26
    },
    {
     "cell_type": "code",
     "collapsed": false,
     "input": [],
     "language": "python",
     "metadata": {},
     "outputs": []
    }
   ],
   "metadata": {}
  }
 ]
}