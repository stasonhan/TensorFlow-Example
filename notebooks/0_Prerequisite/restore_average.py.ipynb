{
 "metadata": {
  "name": "",
  "signature": "sha256:b5970a3d5b6eb27ce767df150ef7c22bc5b768b4390ff9677836e32cfbc31d22"
 },
 "nbformat": 3,
 "nbformat_minor": 0,
 "worksheets": [
  {
   "cells": [
    {
     "cell_type": "code",
     "collapsed": false,
     "input": [
      "import tensorflow as tf\n",
      "v =tf.Variable(0,dtype=tf.float32,name='v')\n",
      "saver = tf.train.Saver({'v/ExponentialMovingAverage':v})\n",
      "with tf.Session() as sess:\n",
      "    saver.restore(sess,\"/home/dev/save/mode.ckpt\")\n",
      "    print sess.run(v)"
     ],
     "language": "python",
     "metadata": {},
     "outputs": [
      {
       "output_type": "stream",
       "stream": "stdout",
       "text": [
        "INFO:tensorflow:Restoring parameters from /home/dev/save/mode.ckpt\n"
       ]
      },
      {
       "output_type": "stream",
       "stream": "stderr",
       "text": [
        "INFO:tensorflow:Restoring parameters from /home/dev/save/mode.ckpt\n"
       ]
      },
      {
       "output_type": "stream",
       "stream": "stdout",
       "text": [
        "0.0999999\n"
       ]
      }
     ],
     "prompt_number": 3
    },
    {
     "cell_type": "code",
     "collapsed": false,
     "input": [],
     "language": "python",
     "metadata": {},
     "outputs": []
    }
   ],
   "metadata": {}
  }
 ]
}