{
 "metadata": {
  "name": "",
  "signature": "sha256:c4d2801a3eabf66fd47ea3cbaf9399e95289451c7e1f161cda4b85a9fbeb050c"
 },
 "nbformat": 3,
 "nbformat_minor": 0,
 "worksheets": [
  {
   "cells": [
    {
     "cell_type": "code",
     "collapsed": false,
     "input": [
      "import tensorflow as tf\n",
      "queue = tf.FIFOQueue(100,\"float\")\n",
      "enqueue_op =queue.enqueue([tf.random_normal([1])])\n",
      "\n",
      "qr = tf.train.QueueRunner(queue,[enqueue_op] * 5)\n",
      "tf.train.add_queue_runner(qr)\n",
      "out_tensor=queue.dequeue()\n",
      "with tf.Session() as sess:\n",
      "    coord = tf.train.Coordinator()\n",
      "    threads = tf.train.start_queue_runners(sess=sess,coord=coord)\n",
      "    for _ in range(3): print sess.run(out_tensor)[0]\n",
      "    coord.request_stop()\n",
      "    coord.join(threads)"
     ],
     "language": "python",
     "metadata": {},
     "outputs": [
      {
       "output_type": "stream",
       "stream": "stdout",
       "text": [
        "1.76763\n",
        "-3.45923\n",
        "-0.444808\n"
       ]
      }
     ],
     "prompt_number": 1
    },
    {
     "cell_type": "code",
     "collapsed": false,
     "input": [],
     "language": "python",
     "metadata": {},
     "outputs": []
    }
   ],
   "metadata": {}
  }
 ]
}