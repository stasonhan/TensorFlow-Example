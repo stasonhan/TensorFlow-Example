{
 "metadata": {
  "name": "",
  "signature": "sha256:a201699948b9e9bfb067ff6e2b447229ba79ecf4ee0fab1711882b512238adf1"
 },
 "nbformat": 3,
 "nbformat_minor": 0,
 "worksheets": [
  {
   "cells": [
    {
     "cell_type": "code",
     "collapsed": false,
     "input": [
      "import tensorflow as tf\n",
      "from tensorflow.python.platform import gfile\n",
      "with tf.Session() as sess:\n",
      "    model_filename = \"/home/dev/save/graph.pb\"\n",
      "    with gfile.FastGFile(model_filename,'rb') as f:\n",
      "        graph_def = tf.GraphDef()\n",
      "        graph_def.ParseFromString(f.read())\n",
      "    result = tf.import_graph_def(graph_def,return_elements=[\"add:0\"])\n",
      "    print sess.run(result)"
     ],
     "language": "python",
     "metadata": {},
     "outputs": [
      {
       "output_type": "stream",
       "stream": "stdout",
       "text": [
        "[array([ 3.], dtype=float32)]\n"
       ]
      }
     ],
     "prompt_number": 2
    },
    {
     "cell_type": "code",
     "collapsed": false,
     "input": [],
     "language": "python",
     "metadata": {},
     "outputs": []
    }
   ],
   "metadata": {}
  }
 ]
}