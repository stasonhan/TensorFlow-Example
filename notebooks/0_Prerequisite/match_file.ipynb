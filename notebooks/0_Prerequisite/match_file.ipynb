{
 "metadata": {
  "name": "",
  "signature": "sha256:839c89cedf61d82215d8272ac91c406f52e3b12211f9bfef629bd3b56fc16e46"
 },
 "nbformat": 3,
 "nbformat_minor": 0,
 "worksheets": [
  {
   "cells": [
    {
     "cell_type": "code",
     "collapsed": false,
     "input": [
      "import tensorflow as tf\n",
      "files = tf.train.match_filenames_once('/tmp/data.tfrecords-*')\n",
      "filename_queue = tf.train.string_input_producer(files,shuffle=False)\n",
      "reader = tf.TFRecordReader()\n",
      "_,serialized_example=reader.read(filename_queue)\n",
      "features = tf.parse_single_example(\n",
      "                   serialized_example,\n",
      "                   features={\n",
      "                         'i':tf.FixedLenFeature([],tf.int64),\n",
      "                        'j':tf.FixedLenFeature([],tf.int64),\n",
      "})\n",
      "\n",
      "with tf.Session() as sess:\n",
      "    #init=tf.global_variables_initializer()\n",
      "    tf.local_variables_initializer().run()\n",
      "    #sess.run(init)\n",
      "    print sess.run(files)\n",
      "    coord = tf.train.Coordinator()\n",
      "    threads = tf.train.start_queue_runners(sess=sess,coord=coord)\n",
      "    for i in range(6):\n",
      "        print sess.run([features['i'],features['j']])\n",
      "    coord.request_stop()\n",
      "    coord.join(threads)"
     ],
     "language": "python",
     "metadata": {},
     "outputs": [
      {
       "output_type": "stream",
       "stream": "stdout",
       "text": [
        "['/tmp/data.tfrecords-00000-of-00002' '/tmp/data.tfrecords-00001-of-00002']\n",
        "[0, 1]\n",
        "[1, 1]\n",
        "[0, 1]\n",
        "[1, 1]\n",
        "[0, 1]\n",
        "[1, 1]\n"
       ]
      }
     ],
     "prompt_number": 6
    },
    {
     "cell_type": "code",
     "collapsed": false,
     "input": [],
     "language": "python",
     "metadata": {},
     "outputs": []
    }
   ],
   "metadata": {}
  }
 ]
}