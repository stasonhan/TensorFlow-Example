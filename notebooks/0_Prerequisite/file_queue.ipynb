{
 "metadata": {
  "name": "",
  "signature": "sha256:f0698f3802083a819b277c7f8f5325f068a27158d0e7a9ee01b333630b634796"
 },
 "nbformat": 3,
 "nbformat_minor": 0,
 "worksheets": [
  {
   "cells": [
    {
     "cell_type": "code",
     "collapsed": false,
     "input": [
      "import tensorflow as tf\n",
      "def _int64_feature(value):\n",
      "    return tf.train.Feature(int64_list=tf.train.Int64List(value=[value]))\n",
      "num_shards = 2\n",
      "instances_per_shard = 2\n",
      "for i in range(num_shards):\n",
      "    filename = ('/tmp/data.tfrecords-%.5d-of-%.5d'%(i,num_shards))\n",
      "    writer = tf.python_io.TFRecordWriter(filename)\n",
      "    for j in range(instances_per_shard):\n",
      "        example = tf.train.Example(features=tf.train.Features(feature={\n",
      "                                'i':_int64_feature(i),\n",
      "                                'j':_int64_feature(j)\n",
      "        }))\n",
      "    writer.write(example.SerializeToString())\n",
      "writer.close()\n",
      "                "
     ],
     "language": "python",
     "metadata": {},
     "outputs": [],
     "prompt_number": 1
    },
    {
     "cell_type": "code",
     "collapsed": false,
     "input": [],
     "language": "python",
     "metadata": {},
     "outputs": []
    }
   ],
   "metadata": {}
  }
 ]
}