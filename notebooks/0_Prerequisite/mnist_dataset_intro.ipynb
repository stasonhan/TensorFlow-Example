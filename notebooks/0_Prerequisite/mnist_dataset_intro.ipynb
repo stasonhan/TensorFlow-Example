{
 "metadata": {
  "kernelspec": {
   "display_name": "Python 2",
   "language": "python",
   "name": "python2"
  },
  "language_info": {
   "codemirror_mode": {
    "name": "ipython",
    "version": 2
   },
   "file_extension": ".py",
   "mimetype": "text/x-python",
   "name": "python",
   "nbconvert_exporter": "python",
   "pygments_lexer": "ipython2",
   "version": "2.7.13"
  },
  "name": "",
  "signature": "sha256:cd787de2696af3cce861233d3dbdc9830254e1743e4bc895d10ba00aaf1fde66"
 },
 "nbformat": 3,
 "nbformat_minor": 0,
 "worksheets": [
  {
   "cells": [
    {
     "cell_type": "markdown",
     "metadata": {},
     "source": [
      "\n",
      "# MNIST Dataset Introduction\n",
      "\n",
      "Most examples are using MNIST dataset of handwritten digits. The dataset contains 60,000 examples for training and 10,000 examples for testing. The digits have been size-normalized and centered in a fixed-size image (28x28 pixels) with values from 0 to 1. For simplicity, each image has been flatten and converted to a 1-D numpy array of 784 features (28*28).\n",
      "\n",
      "## Overview\n",
      "\n",
      "![MNIST Digits](http://neuralnetworksanddeeplearning.com/images/mnist_100_digits.png)\n",
      "\n",
      "## Usage\n",
      "In our examples, we are using TensorFlow [input_data.py](https://github.com/tensorflow/tensorflow/blob/r0.7/tensorflow/examples/tutorials/mnist/input_data.py) script to load that dataset.\n",
      "It is quite useful for managing our data, and handle:\n",
      "\n",
      "- Dataset downloading\n",
      "\n",
      "- Loading the entire dataset into numpy array: \n",
      "\n",
      "\n"
     ]
    },
    {
     "cell_type": "code",
     "collapsed": true,
     "input": [
      "# Import MNIST\n",
      "from tensorflow.examples.tutorials.mnist import input_data\n",
      "mnist = input_data.read_data_sets(\"/home/dev/code/mnist\", one_hot=True)\n",
      "\n",
      "# Load data\n",
      "X_train = mnist.train.images\n",
      "Y_train = mnist.train.labels\n",
      "X_test = mnist.test.images\n",
      "Y_test = mnist.test.labels"
     ],
     "language": "python",
     "metadata": {},
     "outputs": [
      {
       "output_type": "stream",
       "stream": "stdout",
       "text": [
        "Extracting /home/dev/code/mnist/train-images-idx3-ubyte.gz\n",
        "Extracting"
       ]
      },
      {
       "output_type": "stream",
       "stream": "stdout",
       "text": [
        " /home/dev/code/mnist/train-labels-idx1-ubyte.gz\n",
        "Extracting /home/dev/code/mnist/t10k-images-idx3-ubyte.gz\n",
        "Extracting /home/dev/code/mnist/t10k-labels-idx1-ubyte.gz\n"
       ]
      }
     ],
     "prompt_number": 2
    },
    {
     "cell_type": "markdown",
     "metadata": {},
     "source": [
      "- A `next_batch` function that can iterate over the whole dataset and return only the desired fraction of the dataset samples (in order to save memory and avoid to load the entire dataset)."
     ]
    },
    {
     "cell_type": "code",
     "collapsed": true,
     "input": [
      "# Get the next 64 images array and labels\n",
      "batch_X, batch_Y = mnist.train.next_batch(4)\n",
      "print len(batch_X)\n",
      "print batch_X.shape\n",
      "print batch_Y"
     ],
     "language": "python",
     "metadata": {},
     "outputs": [
      {
       "output_type": "stream",
       "stream": "stdout",
       "text": [
        "4\n",
        "(4, 784)\n",
        "[[ 0.  0.  0.  0.  0.  0.  1.  0.  0.  0.]\n",
        " [ 0.  1.  0.  0.  0.  0.  0.  0.  0.  0.]\n",
        " [ 1.  0.  0.  0.  0.  0.  0.  0.  0.  0.]\n",
        " [ 0.  0.  0.  0.  0.  0.  1.  0.  0.  0.]]\n"
       ]
      }
     ],
     "prompt_number": 9
    },
    {
     "cell_type": "code",
     "collapsed": false,
     "input": [],
     "language": "python",
     "metadata": {},
     "outputs": []
    }
   ],
   "metadata": {}
  }
 ]
}