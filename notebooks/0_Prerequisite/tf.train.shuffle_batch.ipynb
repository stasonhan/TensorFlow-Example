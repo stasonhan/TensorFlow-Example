{
 "metadata": {
  "name": "",
  "signature": "sha256:16672e04d00981705f70541aac23147cfc3033285d0a1ca7298926b1dc6e0417"
 },
 "nbformat": 3,
 "nbformat_minor": 0,
 "worksheets": [
  {
   "cells": [
    {
     "cell_type": "code",
     "collapsed": false,
     "input": [
      "import tensorflow as tf\n",
      "\n",
      "files = tf.train.match_filenames_once('/tmp/data.tfrecords-*')\n",
      "filename_queue = tf.train.string_input_producer(files,shuffle=False)\n",
      "reader = tf.TFRecordReader()\n",
      "_,serialized_example=reader.read(filename_queue)\n",
      "features = tf.parse_single_example(\n",
      "                   serialized_example,\n",
      "                   features={\n",
      "                         'i':tf.FixedLenFeature([],tf.int64),\n",
      "                         'j':tf.FixedLenFeature([],tf.int64),\n",
      "})\n",
      "\n",
      "example,label = features['i'],features['j']\n",
      "batch_size = 3\n",
      "capacity = 1000 + 3 * batch_size\n",
      "example_batch,label_batch = tf.train.shuffle_batch(\n",
      "            [example,label],batch_size=batch_size,capacity=capacity,min_after_dequeue=30)\n",
      "with tf.Session() as sess:\n",
      "    tf.local_variables_initializer().run()\n",
      "    coord = tf.train.Coordinator()\n",
      "    threads = tf.train.start_queue_runners(sess=sess,coord=coord)\n",
      "    print len(threads)\n",
      "    for i in range(2):\n",
      "        cur_example_batch,cur_label_batch=sess.run(\n",
      "                    [example_batch,label_batch])\n",
      "        print cur_example_batch,cur_label_batch\n",
      "    coord.request_stop()\n",
      "    coord.join(threads)"
     ],
     "language": "python",
     "metadata": {},
     "outputs": [
      {
       "output_type": "stream",
       "stream": "stdout",
       "text": [
        "24\n",
        "[0 0 1]"
       ]
      },
      {
       "output_type": "stream",
       "stream": "stdout",
       "text": [
        " [1 1 1]\n",
        "[0 1 1] [1 1 1]\n"
       ]
      }
     ],
     "prompt_number": 6
    },
    {
     "cell_type": "code",
     "collapsed": false,
     "input": [],
     "language": "python",
     "metadata": {},
     "outputs": []
    }
   ],
   "metadata": {}
  }
 ]
}