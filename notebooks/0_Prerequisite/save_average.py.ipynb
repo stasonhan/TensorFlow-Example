{
 "metadata": {
  "name": "",
  "signature": "sha256:e5478d44bbdc103d6edd508b176aaa6a7af0be6a403a4f4920c4bbf327ecfbbe"
 },
 "nbformat": 3,
 "nbformat_minor": 0,
 "worksheets": [
  {
   "cells": [
    {
     "cell_type": "code",
     "collapsed": false,
     "input": [
      "import tensorflow as tf\n",
      "v = tf.Variable(0,dtype=tf.float32,name=\"v\")\n",
      "for variables in tf.all_variables():\n",
      "    print variables.name\n",
      "ema = tf.train.ExponentialMovingAverage(0.99)\n",
      "maintain_averages_op = ema.apply(tf.all_variables())\n",
      "for variables in tf.global_variables():\n",
      "    print variables.name\n",
      "print \"Before save !\\n\"\n",
      "saver = tf.train.Saver()\n",
      "with tf.Session() as sess:\n",
      "    init_op= tf.global_variables_initializer()\n",
      "    sess.run(init_op)\n",
      "    sess.run(tf.assign(v,10))\n",
      "    sess.run(maintain_averages_op)\n",
      "    saver.save(sess,\"/home/dev/save/mode.ckpt\")\n",
      "    print sess.run([v,ema.average(v)])\n",
      "    print sess.run(ema.average_name(v))"
     ],
     "language": "python",
     "metadata": {},
     "outputs": [
      {
       "output_type": "stream",
       "stream": "stdout",
       "text": [
        "WARNING:tensorflow:From <ipython-input-1-c01540ebb8e3>:3: all_variables (from tensorflow.python.ops.variables) is deprecated and will be removed after 2017-03-02.\n",
        "Instructions for updating:\n",
        "Please use tf.global_variables instead.\n"
       ]
      },
      {
       "output_type": "stream",
       "stream": "stderr",
       "text": [
        "WARNING:tensorflow:From <ipython-input-1-c01540ebb8e3>:3: all_variables (from tensorflow.python.ops.variables) is deprecated and will be removed after 2017-03-02.\n",
        "Instructions for updating:\n",
        "Please use tf.global_variables instead.\n"
       ]
      },
      {
       "output_type": "stream",
       "stream": "stdout",
       "text": [
        "v:0\n",
        "v:0\n",
        "v/ExponentialMovingAverage:0\n",
        "Before save !\n",
        "\n",
        "[10.0, 0.099999905]\n",
        "None\n"
       ]
      }
     ],
     "prompt_number": 1
    },
    {
     "cell_type": "code",
     "collapsed": false,
     "input": [],
     "language": "python",
     "metadata": {},
     "outputs": []
    }
   ],
   "metadata": {}
  }
 ]
}