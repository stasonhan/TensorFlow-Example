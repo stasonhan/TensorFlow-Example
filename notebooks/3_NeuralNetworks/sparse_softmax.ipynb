{
 "metadata": {
  "name": "",
  "signature": "sha256:ec340a0745b4e587983e89f6e132dfd5abad0af5fb6fd328e357d3adb49c01e7"
 },
 "nbformat": 3,
 "nbformat_minor": 0,
 "worksheets": [
  {
   "cells": [
    {
     "cell_type": "code",
     "collapsed": false,
     "input": [
      "import tensorflow as tf\n",
      "import numpy as np\n",
      "import matplotlib.pyplot as plt\n",
      "y2 = tf.convert_to_tensor([[0, 0, 1, 0]], dtype=tf.int64)\n",
      "y_2 = tf.convert_to_tensor([[-2.6, -1.7, 3.2, 0.1]], dtype=tf.float32)\n",
      "soft_test =  tf.nn.softmax(y_2)\n",
      "c2 = tf.nn.sparse_softmax_cross_entropy_with_logits(logits=y_2, labels=tf.argmax(y2, 1))\n",
      "\n",
      "y3 = tf.convert_to_tensor([[0, 0, 1, 0], [0, 0, 1, 0]], dtype=tf.int64)\n",
      "y_3 = tf.convert_to_tensor([[-2.6, -1.7, -3.2, 0.1], [-2.6, -1.7, 3.2, 0.1]], dtype=tf.float32)\n",
      "c3 = tf.nn.sparse_softmax_cross_entropy_with_logits(logits=y_3, labels=tf.argmax(y3, 1))\n",
      "\n",
      "y4 = tf.convert_to_tensor([[0, 1, 0, 0]], dtype=tf.int64)\n",
      "y_4 = tf.convert_to_tensor([[-2.6, -1.7, -3.2, 0.1]], dtype=tf.float32)\n",
      "c4 = tf.nn.sparse_softmax_cross_entropy_with_logits(logits=y_4, labels=tf.argmax(y4, 1))\n",
      "with tf.Session() as sess:\n",
      "    print 'c2: ' , sess.run(c2)\n",
      "    print 'c3: ' , sess.run(c3)\n",
      "    print 'c4: ' , sess.run(c4)\n",
      "    print 'soft_test: ' , sess.run(soft_test)"
     ],
     "language": "python",
     "metadata": {},
     "outputs": [
      {
       "output_type": "stream",
       "stream": "stdout",
       "text": [
        "c2:  [ 0.05403676]\n",
        "c3:  [ 3.53853464  0.05403676]\n",
        "c4:  [ 2.03853464]\n",
        "soft_test:  [[ 0.0028683   0.00705487  0.94739729  0.04267949]]\n"
       ]
      }
     ],
     "prompt_number": 12
    },
    {
     "cell_type": "code",
     "collapsed": false,
     "input": [],
     "language": "python",
     "metadata": {},
     "outputs": []
    }
   ],
   "metadata": {}
  }
 ]
}