{
 "cells": [
  {
   "cell_type": "code",
   "execution_count": 25,
   "metadata": {},
   "outputs": [
    {
     "name": "stdout",
     "output_type": "stream",
     "text": [
      "np.matrix(x_vals).shape (1, 100)\n",
      "A.shape:  (100, 2)\n",
      "b.shape:  (100, 1)\n",
      "tf.transpose(A_tensor):  (2, 100)\n",
      "product.shape:  (2, 100)\n",
      "solution.shape (2, 1)\n",
      "solution_eval: [[ 1.05310572]\n",
      " [-0.22527003]]\n",
      "slope: 1.0531057159014052\n",
      "y_intercept: -0.22527002522750952\n"
     ]
    },
    {
     "data": {
      "image/png": "[encoded data removed]",
      "text/plain": [
       "<Figure size 432x288 with 1 Axes>"
      ]
     },
     "metadata": {},
     "output_type": "display_data"
    }
   ],
   "source": [
    "import matplotlib.pyplot as plt\n",
    "import numpy as np\n",
    "import tensorflow as tf\n",
    "from tensorflow.python.framework import ops\n",
    "ops.reset_default_graph()\n",
    "sess = tf.Session()\n",
    "\n",
    "# Create the data\n",
    "x_vals = np.linspace(0, 10, 100)\n",
    "y_vals = x_vals + np.random.normal(0, 1, 100)\n",
    "# Create design matrix\n",
    "x_vals_column = np.transpose(np.matrix(x_vals))\n",
    "print (\"np.matrix(x_vals).shape\",np.matrix(x_vals).shape)\n",
    "ones_column = np.transpose(np.matrix(np.repeat(1, 100)))\n",
    "\n",
    "A = np.column_stack((x_vals_column, ones_column))\n",
    "print (\"A.shape: \",A.shape)\n",
    "# Create b matrix\n",
    "b = np.transpose(np.matrix(y_vals))\n",
    "print (\"b.shape: \",b.shape)\n",
    "# Create tensors\n",
    "A_tensor = tf.constant(A)\n",
    "b_tensor = tf.constant(b)\n",
    "\n",
    "# Matrix inverse solution\n",
    "tA_A = tf.matmul(tf.transpose(A_tensor), A_tensor)\n",
    "print (\"tf.transpose(A_tensor): \",tf.transpose(A_tensor).shape)\n",
    "tA_A_inv = tf.matrix_inverse(tA_A)\n",
    "product = tf.matmul(tA_A_inv, tf.transpose(A_tensor))\n",
    "print (\"product.shape: \",product.shape)\n",
    "solution = tf.matmul(product, b_tensor)\n",
    "print (\"solution.shape\",solution.shape)\n",
    "\n",
    "\n",
    "solution_eval = sess.run(solution)\n",
    "print (\"solution_eval:\",solution_eval)\n",
    "# Extract coefficients\n",
    "slope = solution_eval[0][0]\n",
    "y_intercept = solution_eval[1][0]\n",
    "\n",
    "print('slope: ' + str(slope))\n",
    "print('y_intercept: ' + str(y_intercept))\n",
    "\n",
    "# Get best fit line\n",
    "best_fit = []\n",
    "for i in x_vals:\n",
    "  best_fit.append(slope*i+y_intercept)\n",
    "\n",
    "# Plot the results\n",
    "plt.plot(x_vals, y_vals, 'o', label='Data')\n",
    "plt.plot(x_vals, best_fit, 'r-', label='Best fit line', linewidth=3)\n",
    "plt.legend(loc='upper left')\n",
    "plt.show()"
   ]
  },
  {
   "cell_type": "code",
   "execution_count": null,
   "metadata": {},
   "outputs": [],
   "source": []
  }
 ],
 "metadata": {
  "kernelspec": {
   "display_name": "Python 3",
   "language": "python",
   "name": "python3"
  },
  "language_info": {
   "codemirror_mode": {
    "name": "ipython",
    "version": 3
   },
   "file_extension": ".py",
   "mimetype": "text/x-python",
   "name": "python",
   "nbconvert_exporter": "python",
   "pygments_lexer": "ipython3",
   "version": "3.5.2"
  }
 },
 "nbformat": 4,
 "nbformat_minor": 2
}
