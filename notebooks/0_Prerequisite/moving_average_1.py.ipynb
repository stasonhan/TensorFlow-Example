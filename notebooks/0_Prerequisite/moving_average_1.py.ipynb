{
 "metadata": {
  "name": "",
  "signature": "sha256:4a2775a3adcff0411796c21950dfc60144532d68a3ea042bc1e5ff269694da19"
 },
 "nbformat": 3,
 "nbformat_minor": 0,
 "worksheets": [
  {
   "cells": [
    {
     "cell_type": "code",
     "collapsed": false,
     "input": [
      "import tensorflow as tf\n",
      "\n",
      "v1 = tf.Variable(0,dtype=tf.float32)\n",
      "\n",
      "step = tf.Variable(0,trainable=False)\n",
      "ema = tf.train.ExponentialMovingAverage(0.99,step)\n",
      "maintain_averages_op = ema.apply([v1])\n",
      "print dir(maintain_averages_op)\n",
      "with tf.Session() as sess:\n",
      "    # initial all variables\n",
      "    init_op = tf.global_variables_initializer()\n",
      "    sess.run(init_op)\n",
      "    #print \"v1 initial value \",sess.run(v1)\n",
      "    print \"\\nv1 initail value,ema.average \",sess.run([v1,ema.average(v1)])\n",
      "    #v1 set to 5 \n",
      "    sess.run(tf.assign(v1,10))\n",
      "    #modify v1 slide value the decay is min{0.99,(1+step)/(10+step)=0.1}=0.1,\n",
      "    #so the slide value of v1 is modified to 0.1*0+0.9*5=4.5\n",
      "    sess.run(maintain_averages_op)\n",
      "    print sess.run([v1,ema.average(v1)])\n",
      "\n",
      "    \n",
      "    sess.run(tf.assign(v1,10))\n",
      "\n",
      "    sess.run(maintain_averages_op)\n",
      "    print sess.run([v1,ema.average(v1)])\n",
      "\n",
      "    sess.run(maintain_averages_op)\n",
      "    print sess.run([v1,ema.average(v1)])\n"
     ],
     "language": "python",
     "metadata": {},
     "outputs": [
      {
       "output_type": "stream",
       "stream": "stdout",
       "text": [
        "['_InputList', '__class__', '__delattr__', '__dict__', '__doc__', '__format__', '__getattribute__', '__hash__', '__init__', '__module__', '__new__', '__reduce__', '__reduce_ex__', '__repr__', '__setattr__', '__sizeof__', '__str__', '__subclasshook__', '__weakref__', '_add_control_input', '_add_control_inputs', '_add_input', '_c_op', '_control_flow_context', '_control_inputs', '_create_c_op', '_get_control_flow_context', '_graph', '_id', '_id_value', '_input_dtypes', '_input_types', '_input_types_val', '_inputs', '_node_def', '_op_def', '_original_op', '_output_types', '_output_types_val', '_outputs', '_recompute_node_def', '_reconstruct_sequence_inputs', '_set_control_flow_context', '_set_device', '_tf_input', '_tf_output', '_traceback', '_update_input', 'colocation_groups', 'control_inputs', 'device', 'get_attr', 'graph', 'inputs', 'name', 'node_def', 'op_def', 'outputs', 'run', 'traceback', 'traceback_with_start_lines', 'type', 'values']\n",
        "\n",
        "v1 initail value,ema.average  [0.0, 0.0]\n",
        "[10.0, 9.0]"
       ]
      },
      {
       "output_type": "stream",
       "stream": "stdout",
       "text": [
        "\n",
        "[10.0, 9.8999996]\n",
        "[10.0, 9.9899998]\n"
       ]
      }
     ],
     "prompt_number": 11
    },
    {
     "cell_type": "code",
     "collapsed": false,
     "input": [],
     "language": "python",
     "metadata": {},
     "outputs": []
    }
   ],
   "metadata": {}
  }
 ]
}