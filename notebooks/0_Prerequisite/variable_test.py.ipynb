{
 "metadata": {
  "name": "",
  "signature": "sha256:ecc227b8faf7e367eaf6ac8d31445ebd1981e9f231d681258db52054892ab824"
 },
 "nbformat": 3,
 "nbformat_minor": 0,
 "worksheets": [
  {
   "cells": [
    {
     "cell_type": "code",
     "collapsed": false,
     "input": [
      "import tensorflow as tf\n",
      "\n",
      "with tf.variable_scope(\"foo\",reuse=True):\n",
      "    v= tf.get_variable(\"v1\",[1],initializer=tf.constant_initializer(1.0))\n",
      "with tf.variable_scope(\"foo\",reuse=True):\n",
      "    v1 = tf.get_variable(\"v1\",[1])\n",
      "    print v1 == v\n",
      "with tf.variable_scope(\"\",reuse=True):\n",
      "    v2 = tf.get_variable(\"foo/v1\",[1])\n",
      "with tf.Session() as sess:\n",
      "    tf.global_variables_initializer().run()\n",
      "    print sess.run(v2)"
     ],
     "language": "python",
     "metadata": {},
     "outputs": [
      {
       "output_type": "stream",
       "stream": "stdout",
       "text": [
        "True\n",
        "[ 0.]\n"
       ]
      }
     ],
     "prompt_number": 14
    },
    {
     "cell_type": "code",
     "collapsed": false,
     "input": [],
     "language": "python",
     "metadata": {},
     "outputs": []
    }
   ],
   "metadata": {}
  }
 ]
}