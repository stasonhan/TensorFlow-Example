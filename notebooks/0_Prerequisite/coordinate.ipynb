{
 "metadata": {
  "name": "",
  "signature": "sha256:3beb69778380845946177144933c3fce7efaeb4c4a1aba220677a0e68273b0b1"
 },
 "nbformat": 3,
 "nbformat_minor": 0,
 "worksheets": [
  {
   "cells": [
    {
     "cell_type": "code",
     "collapsed": false,
     "input": [
      "import tensorflow as tf \n",
      "import numpy as np\n",
      "import threading \n",
      "import time\n",
      "\n",
      "def MyLoop(coord,worker_id):\n",
      "    while not coord.should_stop():\n",
      "        if np.random.rand() < 0.1:\n",
      "            print \"Stopping from id : %d\\n\" % worker_id\n",
      "            coord.request_stop()\n",
      "        else:\n",
      "            print \"Working on id: %d\\n\" % worker_id\n",
      "        time.sleep(1)\n",
      "coord = tf.train.Coordinator()\n",
      "threads = [\n",
      "    threading.Thread(target=MyLoop,args=(coord,i,)) for i in xrange(5)\n",
      "]\n",
      "for t in threads: t.start()\n",
      "coord.join(threads)"
     ],
     "language": "python",
     "metadata": {},
     "outputs": [
      {
       "output_type": "stream",
       "stream": "stdout",
       "text": [
        "Working on id: 0\n",
        "\n",
        "Working on id: 1\n",
        "\n",
        "Working on id: 2\n",
        "\n",
        "Working on id: 3\n",
        "\n",
        "Working on id: 4\n",
        "\n",
        "Working on id: 2\n",
        "Working on id: 4\n",
        "\n",
        "Working on id: 1\n",
        "\n",
        "Stopping from id : 3\n",
        "Stopping from id : 0\n",
        "\n",
        "\n",
        "\n"
       ]
      }
     ],
     "prompt_number": 2
    },
    {
     "cell_type": "code",
     "collapsed": false,
     "input": [],
     "language": "python",
     "metadata": {},
     "outputs": []
    }
   ],
   "metadata": {}
  }
 ]
}